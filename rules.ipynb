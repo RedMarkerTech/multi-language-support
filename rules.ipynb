{
 "cells": [
  {
   "cell_type": "code",
   "execution_count": 8,
   "metadata": {},
   "outputs": [],
   "source": [
    "import pandas as pd\n",
    "import import_ipynb\n",
    "import initialise_content_and_finder\n",
    "from initialise_content_and_finder import *\n",
    "\n",
    "\n",
    "#Rule 1 finds high-risk promotions on a whole page with terms lists 1(in), 2(in), 3(exclusions)\n",
    "def rule_1(content, offer_lan, high_risk_words, exclusions):\n",
    "    y = find_terms_in(offer_lan, split_by_whole_page(content), terms_list_name = 'offers_in')\n",
    "    y = find_terms_in(high_risk_words, y, terms_list_name = 'high_risk_words_in')\n",
    "    if exclusions != []:\n",
    "        y = find_terms_notin(exclusions, y, terms_list_name = 'exclusions')\n",
    "    rule_name = 'Rule 1: High-risk promotions on page'\n",
    "    y['rule'] = rule_name\n",
    "    return y, rule_name\n",
    "\n",
    "#Rule 2 finds high-risk phrases in a sentence on a page.\n",
    "def rule_2(content, high_risk_words):\n",
    "    y = find_terms_in(high_risk_words, split_by_sentence(content), terms_list_name = 'high_risk_words_in')\n",
    "    rule_name = 'Rule 2: High-risk words in sentences'\n",
    "    y['rule'] = rule_name\n",
    "    return y, rule_name\n",
    "\n",
    "#Rule 3 finds a missing disclaimer for an offer.\n",
    "def rule_3(content, offer_lan, disclaimers):\n",
    "    y = find_terms_in(offer_lan, split_by_whole_page(content), terms_list_name = 'offers_in')\n",
    "    y = find_terms_notin(disclaimers, y, terms_list_name = 'missing_disclaimer')\n",
    "    rule_name = 'Rule 3: Missing sign up disclaimer'\n",
    "    y['rule'] = rule_name\n",
    "    return y, rule_name\n",
    "\n",
    "#Rule 4 finds a missing disclaimer on any page.\n",
    "def rule_4(content, disclaimers):\n",
    "    y = find_terms_notin(disclaimers, split_by_whole_page(content), terms_list_name = 'missing_disclaimer')\n",
    "    rule_name = 'Rule 4: Missing legal disclaimer'\n",
    "    y['rule'] = rule_name\n",
    "    return y, rule_name\n"
   ]
  },
  {
   "cell_type": "code",
   "execution_count": null,
   "metadata": {},
   "outputs": [],
   "source": []
  },
  {
   "cell_type": "code",
   "execution_count": null,
   "metadata": {},
   "outputs": [],
   "source": []
  }
 ],
 "metadata": {
  "kernelspec": {
   "display_name": "conda_python3",
   "language": "python",
   "name": "conda_python3"
  },
  "language_info": {
   "codemirror_mode": {
    "name": "ipython",
    "version": 3
   },
   "file_extension": ".py",
   "mimetype": "text/x-python",
   "name": "python",
   "nbconvert_exporter": "python",
   "pygments_lexer": "ipython3",
   "version": "3.6.10"
  }
 },
 "nbformat": 4,
 "nbformat_minor": 4
}

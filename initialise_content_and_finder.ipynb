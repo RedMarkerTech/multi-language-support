{
 "cells": [
  {
   "cell_type": "code",
   "execution_count": 1,
   "metadata": {},
   "outputs": [],
   "source": [
    "import pandas as pd\n",
    "import re\n",
    "import numpy as np\n",
    "import json"
   ]
  },
  {
   "cell_type": "raw",
   "metadata": {},
   "source": [
    "# Read data from file: \n",
    "data = json.load(open(\"content.json\"))"
   ]
  },
  {
   "cell_type": "code",
   "execution_count": 3,
   "metadata": {},
   "outputs": [],
   "source": [
    "#Prepare content \n",
    "\n",
    "#Gets a list of just the content from (urls against content)\n",
    "def strip_url_from_content(content):\n",
    "    return pd.DataFrame(content.items())[1].tolist()\n",
    "\n",
    "def url_against_page_no(content):\n",
    "    all_urls_page_num = {\n",
    "    'page_number': list(range(1, len(content)+1, 1)),\n",
    "    'url': pd.DataFrame(content.items())[0].tolist()\n",
    "    }\n",
    "    return pd.DataFrame(all_urls_page_num)\n",
    "    "
   ]
  },
  {
   "cell_type": "code",
   "execution_count": 4,
   "metadata": {},
   "outputs": [],
   "source": [
    "#Splitting out content:\n",
    "#Split content into each page (all content per page):\n",
    "\n",
    "def split_by_whole_page(content):\n",
    "    content = strip_url_from_content(content)\n",
    "    page_content = pd.DataFrame([content, list(range(1, len(content)+1))]).T\n",
    "    page_content.columns = ['phrase', 'page_number']\n",
    "    return page_content\n",
    "                         \n",
    "\n",
    "#Split content into sentences per page:\n",
    "def split_by_sentence(content):\n",
    "    all_phrases = []\n",
    "    for page_num, (url, content) in enumerate(content.items(), start=1):\n",
    "        content = content.split(\". \")\n",
    "        for phrase in content:\n",
    "            all_phrases.append((phrase, page_num))\n",
    "    df_phrases = pd.DataFrame(all_phrases, columns = ['phrase', 'page_number'])\n",
    "    return df_phrases\n",
    "\n",
    "#Split content into sentences per page:\n",
    "def split_by_sentence_1(content):\n",
    "    all_phrases = [\n",
    "        (phrase, page_num)\n",
    "        for content, page_num in enumerate(content, start=1)\n",
    "        for phrase in content.split(\". \")\n",
    "    ]\n",
    "    df_phrases = pd.DataFrame(all_phrases, columns = ['phrase', 'page_number'])\n",
    "    return df_phrases\n",
    "\n"
   ]
  },
  {
   "cell_type": "code",
   "execution_count": 5,
   "metadata": {},
   "outputs": [],
   "source": [
    "#Define classification (in, not in, exclusion):\n",
    "\n",
    "#Terms present:\n",
    "def find_terms_in(terms_list, df_o, terms_list_name):\n",
    "    df = df_o.copy()\n",
    "    phrases = df['phrase'].tolist()\n",
    "    all_terms = []\n",
    "    for phrase in phrases:\n",
    "        terms_per_phrase = []\n",
    "        for term in terms_list:\n",
    "            if term in phrase:\n",
    "                present = term\n",
    "            else: \n",
    "                present = 'NaN'\n",
    "            terms_per_phrase.append(present)\n",
    "        all_terms.append(terms_per_phrase)\n",
    "    all_terms = pd.DataFrame(all_terms)\n",
    "    df[terms_list_name]=all_terms.apply(lambda row: ', '.join(row.values.astype(str)), axis = 1)\n",
    "    df[terms_list_name] = df[terms_list_name].str.replace('NaN, ', '').str.replace(', NaN', '').str.replace('NaN', '')\n",
    "    return df\n",
    "\n",
    "#Find terms not present:\n",
    "def find_terms_notin(terms_list, df_o, terms_list_name):\n",
    "    df = df_o.copy()\n",
    "    phrases = df['phrase'].tolist()\n",
    "    all_terms = []\n",
    "    for phrase in phrases:\n",
    "        terms_per_phrase = []\n",
    "        for term in terms_list:\n",
    "            if term not in phrase:\n",
    "                present = term\n",
    "            else: \n",
    "                present = 'NaN'\n",
    "            terms_per_phrase.append(present)\n",
    "        all_terms.append(terms_per_phrase)\n",
    "    all_terms = pd.DataFrame(all_terms)\n",
    "    df[terms_list_name]=all_terms.apply(lambda row: ', '.join(row.values.astype(str)), axis = 1)\n",
    "    df[terms_list_name] = df[terms_list_name].str.replace('NaN, ', '').str.replace(', NaN', '').str.replace('NaN', '')\n",
    "    return df"
   ]
  },
  {
   "cell_type": "code",
   "execution_count": null,
   "metadata": {},
   "outputs": [],
   "source": []
  }
 ],
 "metadata": {
  "kernelspec": {
   "display_name": "conda_python3",
   "language": "python",
   "name": "conda_python3"
  },
  "language_info": {
   "codemirror_mode": {
    "name": "ipython",
    "version": 3
   },
   "file_extension": ".py",
   "mimetype": "text/x-python",
   "name": "python",
   "nbconvert_exporter": "python",
   "pygments_lexer": "ipython3",
   "version": "3.6.10"
  }
 },
 "nbformat": 4,
 "nbformat_minor": 4
}

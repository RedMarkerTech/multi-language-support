{
 "cells": [
  {
   "cell_type": "code",
   "execution_count": null,
   "metadata": {},
   "outputs": [],
   "source": [
    "import pandas as pd\n",
    "import import_ipynb\n",
    "import initialise_content_and_finder\n",
    "from initialise_content_and_finder import *\n",
    "import rules\n",
    "from rules import *\n",
    "\n",
    "\n",
    "#Return only the triggered rows for one rule and one content set:\n",
    "def find_triggered_items(rule_to_run, content):\n",
    "    list_of_content = strip_url_from_content(content)\n",
    "    triggered = rule_to_run[0]\n",
    "    for col in triggered.columns.tolist()[2:]:\n",
    "        triggered = triggered[triggered[col] != \"\"]\n",
    "    df = pd.DataFrame(url_against_page_no(content))\n",
    "    triggered = pd.merge(triggered, df, on='page_number', how='left')\n",
    "    if triggered.empty == True:\n",
    "        return print('No phrases triggered for ' + rule_to_run[1] + '.')\n",
    "    else:\n",
    "        return triggered.drop(['page_number'], axis = 1)\n",
    "   "
   ]
  },
  {
   "cell_type": "code",
   "execution_count": null,
   "metadata": {},
   "outputs": [],
   "source": []
  },
  {
   "cell_type": "code",
   "execution_count": null,
   "metadata": {},
   "outputs": [],
   "source": []
  }
 ],
 "metadata": {
  "kernelspec": {
   "display_name": "conda_python3",
   "language": "python",
   "name": "conda_python3"
  },
  "language_info": {
   "codemirror_mode": {
    "name": "ipython",
    "version": 3
   },
   "file_extension": ".py",
   "mimetype": "text/x-python",
   "name": "python",
   "nbconvert_exporter": "python",
   "pygments_lexer": "ipython3",
   "version": "3.6.10"
  }
 },
 "nbformat": 4,
 "nbformat_minor": 4
}
